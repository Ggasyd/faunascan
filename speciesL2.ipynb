{
 "cells": [
  {
   "cell_type": "code",
   "execution_count": 1,
   "metadata": {},
   "outputs": [],
   "source": [
    "import os\n",
    "import librosa\n",
    "import numpy as np\n",
    "import pandas as pd\n",
    "import faiss\n",
    "\n"
   ]
  },
  {
   "cell_type": "markdown",
   "metadata": {},
   "source": [
    "Traitement des audio et extraction des caractéristiques audios pertinentes (mfcc)"
   ]
  },
  {
   "cell_type": "code",
   "execution_count": 2,
   "metadata": {},
   "outputs": [],
   "source": [
    "\n",
    "def feature_extraction(file_path):\n",
    "    try:\n",
    "        # load the audio file\n",
    "        x, sample_rate = librosa.load(file_path, res_type='kaiser_fast')\n",
    "        # extract features from the audio\n",
    "        mfcc = np.mean(librosa.feature.mfcc(y=x, sr=sample_rate, n_mfcc=50).T, axis=0)\n",
    "        return mfcc\n",
    "    except ValueError as e:\n",
    "        # Gérer l'erreur ici (par exemple, imprimer un message d'erreur ou ignorer le fichier)\n",
    "        print(f\"Erreur lors du chargement de {file_path}: {e}\")\n",
    "        return None\n",
    "\n",
    "directory = 'C:/Users/femia/Desktop/dogs/'\n",
    "features = []\n",
    "\n",
    "for audio in os.listdir(directory):\n",
    "    audio_path = os.path.join(directory, audio)\n",
    "    if os.path.getsize(audio_path) > 0:  # Vérifiez si le fichier n'est pas vide\n",
    "        mfccs = feature_extraction(audio_path)\n",
    "        if mfccs is not None:\n",
    "            features.append(mfccs)\n"
   ]
  },
  {
   "cell_type": "markdown",
   "metadata": {},
   "source": [
    "Stockage des noms d'animaux"
   ]
  },
  {
   "cell_type": "code",
   "execution_count": 3,
   "metadata": {},
   "outputs": [],
   "source": [
    "# Liste pour stocker les noms des animaux\n",
    "names = []\n",
    "\n",
    "# Parcourir le répertoire et ajouter les noms des fichiers à la liste\n",
    "for filename in os.listdir(directory):\n",
    "    if os.path.isfile(os.path.join(directory, filename)):\n",
    "        names.append(filename)\n",
    "\n",
    "\n"
   ]
  },
  {
   "cell_type": "markdown",
   "metadata": {},
   "source": [
    "Fonction de création des index, de recherche à l'intérieur des index"
   ]
  },
  {
   "cell_type": "code",
   "execution_count": 4,
   "metadata": {},
   "outputs": [],
   "source": [
    "def creatingIndexes(ensemble):\n",
    "    d = ensemble.shape[1]\n",
    "    index = faiss.IndexFlatL2(d)  # Utiliser l'indexation L2\n",
    "    index.add(ensemble)\n",
    "    return index\n"
   ]
  },
  {
   "cell_type": "code",
   "execution_count": 5,
   "metadata": {},
   "outputs": [],
   "source": [
    "def searchinIndex(index, normal_embedding):\n",
    "    D,I= index.search(normal_embedding, 10)\n",
    "    r=pd.DataFrame({'distance':D[0],'index':I[0]})\n",
    "    return r"
   ]
  },
  {
   "cell_type": "code",
   "execution_count": 6,
   "metadata": {},
   "outputs": [],
   "source": [
    "embedding=np.array(features,dtype=np.float32)"
   ]
  },
  {
   "cell_type": "code",
   "execution_count": 7,
   "metadata": {},
   "outputs": [],
   "source": [
    "index=creatingIndexes(embedding)"
   ]
  },
  {
   "cell_type": "code",
   "execution_count": 8,
   "metadata": {},
   "outputs": [],
   "source": [
    "query_embedding=feature_extraction(\"C:/Users/femia/Downloads/output_12_15_59.wav\")\n",
    "# Assurez-vous que `query_embedding` est un tableau 2D avec une seule requête\n",
    "query_embedding = query_embedding.reshape(1, -1)\n",
    "query_embedding=np.array(query_embedding,dtype=np.float32)"
   ]
  },
  {
   "cell_type": "code",
   "execution_count": 9,
   "metadata": {},
   "outputs": [],
   "source": [
    "i=searchinIndex(index,query_embedding)"
   ]
  },
  {
   "cell_type": "code",
   "execution_count": 10,
   "metadata": {},
   "outputs": [
    {
     "name": "stdout",
     "output_type": "stream",
     "text": [
      "      distance  index\n",
      "0  2520.647217      9\n",
      "1  2528.609863    594\n",
      "2  2683.003174    545\n",
      "3  2723.091064    574\n",
      "4  2726.721680    325\n",
      "5  2760.156982      0\n",
      "6  2776.731689    563\n",
      "7  2778.452148    606\n",
      "8  2786.254639    139\n",
      "9  2802.515137     52\n"
     ]
    }
   ],
   "source": [
    "print(i)"
   ]
  },
  {
   "cell_type": "markdown",
   "metadata": {},
   "source": [
    "Nom de l'espèce "
   ]
  },
  {
   "cell_type": "code",
   "execution_count": 11,
   "metadata": {},
   "outputs": [
    {
     "name": "stdout",
     "output_type": "stream",
     "text": [
      "L'animal est un Farley-1-P-1b\n"
     ]
    }
   ],
   "source": [
    "print(\"L'animal est un \" + names[i['index'][0]].replace('.aif', ''))\n"
   ]
  },
  {
   "cell_type": "code",
   "execution_count": null,
   "metadata": {},
   "outputs": [],
   "source": []
  },
  {
   "cell_type": "code",
   "execution_count": null,
   "metadata": {},
   "outputs": [],
   "source": []
  }
 ],
 "metadata": {
  "kernelspec": {
   "display_name": "base",
   "language": "python",
   "name": "python3"
  },
  "language_info": {
   "codemirror_mode": {
    "name": "ipython",
    "version": 3
   },
   "file_extension": ".py",
   "mimetype": "text/x-python",
   "name": "python",
   "nbconvert_exporter": "python",
   "pygments_lexer": "ipython3",
   "version": "3.9.18"
  }
 },
 "nbformat": 4,
 "nbformat_minor": 2
}
